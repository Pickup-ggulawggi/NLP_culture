{
  "cells": [
    {
      "cell_type": "markdown",
      "metadata": {
        "id": "HuNVhwl-6Fid"
      },
      "source": [
        "### Data Collection ##"
      ]
    },
    {
      "cell_type": "code",
      "execution_count": null,
      "metadata": {
        "id": "Zdv8bL1nXDAl"
      },
      "outputs": [],
      "source": [
        "import requests\n",
        "import pandas as pd\n",
        "from bs4 import BeautifulSoup"
      ]
    },
    {
      "cell_type": "code",
      "execution_count": null,
      "metadata": {
        "id": "AP2gGHzXXzgi"
      },
      "outputs": [],
      "source": [
        "# top 10개 회사 리뷰 추출\n",
        "\n",
        "samsung = 'https://www.teamblind.com/kr/company/%EC%82%BC%EC%84%B1%EC%A0%84%EC%9E%90/' # 리뷰 갯수: 13,111\n",
        "kakao = 'https://www.teamblind.com/kr/company/%EC%B9%B4%EC%B9%B4%EC%98%A4/' # 리뷰 갯수: 2,304\n",
        "naver = 'https://www.teamblind.com/kr/company/NAVER/' # 리뷰 갯수: 3,178\n",
        "hyundai ='https://www.teamblind.com/kr/company/%ED%98%84%EB%8C%80%EC%9E%90%EB%8F%99%EC%B0%A8/' # 리뷰 갯수: 6,713\n",
        "amore = 'https://www.teamblind.com/kr/company/%EC%95%84%EB%AA%A8%EB%A0%88%ED%8D%BC%EC%8B%9C%ED%94%BD/' # 리뷰 갯수: 1,704\n",
        "cjenm = 'https://www.teamblind.com/kr/company/CJ%20ENM/' # 리뷰 갯수: 1,442\n",
        "sk = 'https://www.teamblind.com/kr/company/SK%ED%95%98%EC%9D%B4%EB%8B%89%EC%8A%A4/' # 리뷰 갯수: 4,826\n",
        "samsungcnt = 'https://www.teamblind.com/kr/company/%EC%82%BC%EC%84%B1%EB%AC%BC%EC%82%B0/' # 리뷰 갯수: 1,217\n",
        "koreanair= 'https://www.teamblind.com/kr/company/%EB%8C%80%ED%95%9C%ED%95%AD%EA%B3%B5/' # 리뷰 갯수: 1,179\n",
        "cj_food='https://www.teamblind.com/kr/company/CJ%EC%A0%9C%EC%9D%BC%EC%A0%9C%EB%8B%B9/' # 리뷰 갯수: 1,829"
      ]
    },
    {
      "cell_type": "code",
      "execution_count": null,
      "metadata": {
        "id": "z1bGpW0HTGSx"
      },
      "outputs": [],
      "source": [
        "headers = {'User-Agent' : 'Mozilla/5.0 (Windows NT 10.0; Win64; x64) AppleWebKit/537.36 (KHTML, like Gecko) Chrome/117.0.0.0 Safari/537.36'}\n",
        "\n",
        "def review_title(name, company_url, num_review):\n",
        "  import pandas as pd\n",
        "  info, dates, ratings, titles = [], [], [], []\n",
        "  total_pages = (num_review // 30) + 1 # 한 페이지당 30개 리뷰 존재\n",
        "\n",
        "  for page in range(1, total_pages+1):\n",
        "    r = requests.get(company_url + f'reviews?page={page}', headers=headers)\n",
        "    soup = BeautifulSoup(r.content, 'html.parser')\n",
        "    review = soup.find_all('div', attrs = {'class': 'review_item'})\n",
        "\n",
        "    for item in review:\n",
        "      ppl_info = item.find('div', attrs={'class' : 'auth'}).get_text().strip()\n",
        "      date = ppl_info.split(' ')[-1] # date\n",
        "      rating = item.find('strong', attrs={'class' : 'num'}).get_text() # rating\n",
        "      title = item.find('h3', attrs={'class': 'rvtit'}).get_text() # title\n",
        "\n",
        "      info.append(ppl_info)\n",
        "      dates.append(date)\n",
        "      ratings.append(rating)\n",
        "      titles.append(title)\n",
        "\n",
        "  output =  {'info': info, 'date': dates, 'rating': ratings, 'title': titles}\n",
        "  result = pd.DataFrame(output)\n",
        "\n",
        "  result.to_csv(f'./[1]data_collection/blind_{name}.csv', encoding='utf8', index=False)"
      ]
    },
    {
      "cell_type": "code",
      "execution_count": null,
      "metadata": {
        "id": "QdEgV-ivXyTL"
      },
      "outputs": [],
      "source": [
        "samsung = review_title('samsung', samsung, 13111) # 437\n",
        "amore_df = review_title('amore', amore, 1704)\n",
        "kakao_df = review_title('kakao', kakao, 2304)\n",
        "hyundai_df = review_title('hyundai', hyundai, 6713)\n",
        "cjenm_df = review_title('cjenm', cjenm, 1442)\n",
        "sk_df = review_title('sk', sk, 4826)\n",
        "samsungcnt_df = review_title('samsungcnt', samsungcnt, 1217)\n",
        "koreanair_df = review_title('koreanair', koreanair, 1179)\n",
        "cj_food_df = review_title('cj_food', cj_food, 1829)"
      ]
    },
    {
      "cell_type": "code",
      "execution_count": null,
      "metadata": {
        "colab": {
          "base_uri": "https://localhost:8080/",
          "height": 35
        },
        "id": "kNozXdrDpj-Q",
        "outputId": "3954b7da-5402-4f87-a82a-d54344162363"
      },
      "outputs": [
        {
          "data": {
            "application/vnd.google.colaboratory.intrinsic+json": {
              "type": "string"
            },
            "text/plain": [
              "'https://www.teamblind.com/kr/company/SK%ED%95%98%EC%9D%B4%EB%8B%89%EC%8A%A4/'"
            ]
          },
          "execution_count": 35,
          "metadata": {},
          "output_type": "execute_result"
        }
      ],
      "source": [
        "# Other companies\n",
        "\n",
        "corp = pd.read_csv('data_collection_corp_list.csv', encoding='utf8') # 시가총액 기준  탑 50 회사 리스트\n",
        "corp = corp[corp['url'] != 'o']\n",
        "corp['review_num'] = corp['review_num'].astype(int)\n",
        "corp['url'] = corp['url'].apply(lambda x:x[:-7])\n",
        "corp.url.iloc[1] # 예시"
      ]
    },
    {
      "cell_type": "code",
      "execution_count": null,
      "metadata": {
        "id": "oQ0t0iXSzdxz"
      },
      "outputs": [],
      "source": [
        "for i in corp.index:\n",
        "  review_title(corp.loc[i, '이름'], corp.loc[i, 'url'], corp.loc[i, 'review_num'])"
      ]
    }
  ],
  "metadata": {
    "colab": {
      "provenance": []
    },
    "kernelspec": {
      "display_name": "Python 3",
      "name": "python3"
    },
    "language_info": {
      "name": "python"
    }
  },
  "nbformat": 4,
  "nbformat_minor": 0
}
